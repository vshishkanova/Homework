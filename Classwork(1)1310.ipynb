{
 "cells": [
  {
   "cell_type": "code",
   "execution_count": 2,
   "metadata": {},
   "outputs": [],
   "source": [
    "import os "
   ]
  },
  {
   "cell_type": "code",
   "execution_count": null,
   "metadata": {},
   "outputs": [],
   "source": []
  },
  {
   "cell_type": "code",
   "execution_count": 5,
   "metadata": {
    "scrolled": true
   },
   "outputs": [
    {
     "name": "stdout",
     "output_type": "stream",
     "text": [
      "/Users/valeriyashishkanova/Desktop/ВШЭ/Новая папка/Homework/python-dh-hw\n"
     ]
    }
   ],
   "source": [
    "print(os.getcwd())"
   ]
  },
  {
   "cell_type": "code",
   "execution_count": 15,
   "metadata": {},
   "outputs": [],
   "source": [
    "a = []"
   ]
  },
  {
   "cell_type": "code",
   "execution_count": 16,
   "metadata": {},
   "outputs": [
    {
     "name": "stdout",
     "output_type": "stream",
     "text": [
      "Untitled1.ipynb\n",
      "Classwork1509.ipynb\n",
      ".DS_Store\n",
      "Untitled.ipynb\n",
      "README.md\n",
      "HW1.ipynb\n",
      ".ipynb_checkpoints\n",
      "poems\n",
      ".git\n"
     ]
    }
   ],
   "source": [
    "for file in os.listdir('.'): \n",
    "    print(file)\n",
    "    a.append(file)"
   ]
  },
  {
   "cell_type": "code",
   "execution_count": 17,
   "metadata": {},
   "outputs": [
    {
     "data": {
      "text/plain": [
       "9"
      ]
     },
     "execution_count": 17,
     "metadata": {},
     "output_type": "execute_result"
    }
   ],
   "source": [
    "len(a)"
   ]
  },
  {
   "cell_type": "code",
   "execution_count": 18,
   "metadata": {},
   "outputs": [
    {
     "name": "stdout",
     "output_type": "stream",
     "text": [
      "False\n"
     ]
    }
   ],
   "source": [
    "print(os.path.isfile('грим.txt'))"
   ]
  },
  {
   "cell_type": "code",
   "execution_count": 28,
   "metadata": {},
   "outputs": [
    {
     "name": "stdout",
     "output_type": "stream",
     "text": [
      "кот по цепи идёт направо \n",
      "и упирается в щиток \n",
      "а от щитка идя налево \n",
      "он ток\n"
     ]
    }
   ],
   "source": [
    "f = open('poems/котики/кот.txt', 'r', encoding='utf-8')\n",
    "poem = f.read()\n",
    "print(poem)"
   ]
  },
  {
   "cell_type": "code",
   "execution_count": 29,
   "metadata": {},
   "outputs": [
    {
     "name": "stdout",
     "output_type": "stream",
     "text": [
      "['а боль у вас какого рода \\n', 'спросил дежурный врач а я \\n', 'как на духу она ответил \\n', 'моя']\n"
     ]
    }
   ],
   "source": [
    "with open('poems/боль.txt', 'r', encoding='utf-8') as f:\n",
    "    lines = f.readlines()\n",
    "    \n",
    "print(lines)"
   ]
  },
  {
   "cell_type": "code",
   "execution_count": 35,
   "metadata": {},
   "outputs": [],
   "source": [
    "os.rename('poems/кладь.txt', 'poems/КлАдЬ.txt')"
   ]
  },
  {
   "cell_type": "code",
   "execution_count": 36,
   "metadata": {},
   "outputs": [],
   "source": [
    "os.remove('poems/котики/пушок.txt')"
   ]
  },
  {
   "cell_type": "code",
   "execution_count": 37,
   "metadata": {},
   "outputs": [
    {
     "name": "stdout",
     "output_type": "stream",
     "text": [
      "/Users/valeriyashishkanova/Desktop/ВШЭ/Новая папка/Homework/python-dh-hw/poems/шредингер.txt\n",
      "/Users/valeriyashishkanova/Desktop/ВШЭ/Новая папка/Homework/python-dh-hw/poems/.DS_Store\n",
      "/Users/valeriyashishkanova/Desktop/ВШЭ/Новая папка/Homework/python-dh-hw/poems/боль.txt\n",
      "/Users/valeriyashishkanova/Desktop/ВШЭ/Новая папка/Homework/python-dh-hw/poems/ворон.txt\n",
      "/Users/valeriyashishkanova/Desktop/ВШЭ/Новая папка/Homework/python-dh-hw/poems/КлАдЬ.txt\n",
      "/Users/valeriyashishkanova/Desktop/ВШЭ/Новая папка/Homework/python-dh-hw/poems/деды.txt\n",
      "/Users/valeriyashishkanova/Desktop/ВШЭ/Новая папка/Homework/python-dh-hw/poems/ночь.txt\n",
      "/Users/valeriyashishkanova/Desktop/ВШЭ/Новая папка/Homework/python-dh-hw/poems/сказки/король.txt\n",
      "/Users/valeriyashishkanova/Desktop/ВШЭ/Новая папка/Homework/python-dh-hw/poems/сказки/крестная.txt\n",
      "/Users/valeriyashishkanova/Desktop/ВШЭ/Новая папка/Homework/python-dh-hw/poems/сказки/гримм.txt\n",
      "/Users/valeriyashishkanova/Desktop/ВШЭ/Новая папка/Homework/python-dh-hw/poems/сказки/королевич.txt\n",
      "/Users/valeriyashishkanova/Desktop/ВШЭ/Новая папка/Homework/python-dh-hw/poems/сказки/яга.txt\n",
      "/Users/valeriyashishkanova/Desktop/ВШЭ/Новая папка/Homework/python-dh-hw/poems/котики/кот.txt\n",
      "/Users/valeriyashishkanova/Desktop/ВШЭ/Новая папка/Homework/python-dh-hw/poems/котики/лео.txt\n"
     ]
    }
   ],
   "source": [
    "for root, dirs, files in os.walk('/Users/valeriyashishkanova/Desktop/ВШЭ/Новая папка/Homework/python-dh-hw/poems'):\n",
    "#     print(root)\n",
    "#     print(dirs)\n",
    "    for name in files:\n",
    "        fullname = os.path.join(root, name)\n",
    "        print(fullname)"
   ]
  },
  {
   "cell_type": "code",
   "execution_count": 38,
   "metadata": {},
   "outputs": [
    {
     "ename": "FileNotFoundError",
     "evalue": "[Errno 2] No such file or directory: 'poem.txt'",
     "output_type": "error",
     "traceback": [
      "\u001b[0;31m---------------------------------------------------------------------------\u001b[0m",
      "\u001b[0;31mFileNotFoundError\u001b[0m                         Traceback (most recent call last)",
      "\u001b[0;32m<ipython-input-38-9066990d96ed>\u001b[0m in \u001b[0;36m<module>\u001b[0;34m()\u001b[0m\n\u001b[0;32m----> 1\u001b[0;31m \u001b[0mf\u001b[0m \u001b[0;34m=\u001b[0m \u001b[0mopen\u001b[0m\u001b[0;34m(\u001b[0m\u001b[0;34m'poem.txt'\u001b[0m\u001b[0;34m,\u001b[0m \u001b[0;34m'r'\u001b[0m\u001b[0;34m,\u001b[0m \u001b[0mencoding\u001b[0m\u001b[0;34m=\u001b[0m\u001b[0;34m'utf-8'\u001b[0m\u001b[0;34m)\u001b[0m\u001b[0;34m\u001b[0m\u001b[0m\n\u001b[0m",
      "\u001b[0;31mFileNotFoundError\u001b[0m: [Errno 2] No such file or directory: 'poem.txt'"
     ]
    }
   ],
   "source": [
    "f = open('poem.txt', 'r', encoding='utf-8')"
   ]
  },
  {
   "cell_type": "code",
   "execution_count": null,
   "metadata": {},
   "outputs": [],
   "source": []
  }
 ],
 "metadata": {
  "kernelspec": {
   "display_name": "Python 3",
   "language": "python",
   "name": "python3"
  },
  "language_info": {
   "codemirror_mode": {
    "name": "ipython",
    "version": 3
   },
   "file_extension": ".py",
   "mimetype": "text/x-python",
   "name": "python",
   "nbconvert_exporter": "python",
   "pygments_lexer": "ipython3",
   "version": "3.7.0"
  }
 },
 "nbformat": 4,
 "nbformat_minor": 2
}
