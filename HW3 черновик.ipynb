{
 "cells": [
  {
   "cell_type": "code",
   "execution_count": 2,
   "metadata": {},
   "outputs": [],
   "source": [
    "#задание1\n",
    "import os\n",
    "from pymystem3 import Mystem\n",
    "with open('/Users/valeriyashishkanova/Desktop/ВШЭ/Новая папка/Homework/python-dh-hw/literary.anecdotes.txt'), 'r', encoding='utf-8') as f:\n",
    "    anecdote = f.read()\n",
    "\n",
    "# Очистка от пунктуация\n",
    "text_halfclean = [w.strip(\"!\\\"#$%&'()*+,./:;<=>?@[\\]^_`{|}~„“«»†*—/\\-—\") for w in text.split()] # очищаем от пунктуации\n",
    "text_clean = [w for w in text_halfclean if len(w) != 0] # очищаем от пустых элементов\n",
    "\n",
    "# соединяем в строку\n",
    "text_string = ' '.join(text_clean)\n",
    "\n",
    "# 2. Лемматизируем\n",
    "m = Mystem()\n",
    "lemmas = m.lemmatize(text_string)\n",
    "text_lemma = ''.join(lemmas) # соединяем в строку\n"
   ]
  },
  {
   "cell_type": "code",
   "execution_count": null,
   "metadata": {},
   "outputs": [],
   "source": []
  }
 ],
 "metadata": {
  "kernelspec": {
   "display_name": "Python 3",
   "language": "python",
   "name": "python3"
  },
  "language_info": {
   "codemirror_mode": {
    "name": "ipython",
    "version": 3
   },
   "file_extension": ".py",
   "mimetype": "text/x-python",
   "name": "python",
   "nbconvert_exporter": "python",
   "pygments_lexer": "ipython3",
   "version": "3.7.0"
  }
 },
 "nbformat": 4,
 "nbformat_minor": 2
}
