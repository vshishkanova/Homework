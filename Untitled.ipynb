{
 "cells": [
  {
   "cell_type": "code",
   "execution_count": 1,
   "metadata": {},
   "outputs": [
    {
     "name": "stdout",
     "output_type": "stream",
     "text": [
      "Введите число от 1 до 9: 6\n",
      "Милые пингвинята\n",
      "    _~_        _~_        _~_        _~_        _~_        _~_    \n",
      "   (o o)      (o o)      (o o)      (o o)      (o o)      (o o)   \n",
      "  /  V  \\    /  V  \\    /  V  \\    /  V  \\    /  V  \\    /  V  \\  \n",
      " /(  _  )\\  /(  _  )\\  /(  _  )\\  /(  _  )\\  /(  _  )\\  /(  _  )\\ \n",
      "   ^^ ^^      ^^ ^^      ^^ ^^      ^^ ^^      ^^ ^^      ^^ ^^   \n"
     ]
    }
   ],
   "source": [
    "pinguin = int(input( \"Введите число от 1 до 9: \"))\n",
    "m = \"Милые пингвинята\"\n",
    "a = '    _~_    '\n",
    "b = '   (o o)   '\n",
    "c = '  /  V  \\  '\n",
    "d = ' /(  _  )\\ '\n",
    "e = '   ^^ ^^   '\n",
    " \n",
    "print(m)    \n",
    "print(a*pinguin)\n",
    "print(b*pinguin)\n",
    "print(c*pinguin)\n",
    "print(d*pinguin)\n",
    "print(e*pinguin)"
   ]
  },
  {
   "cell_type": "code",
   "execution_count": 2,
   "metadata": {},
   "outputs": [
    {
     "name": "stdout",
     "output_type": "stream",
     "text": [
      "Количество символов в строке: \n",
      "17\n",
      "Количество слов в строке\n",
      "3\n"
     ]
    }
   ],
   "source": [
    "sentence = \"мы веселые медузы\"\n",
    "print(\"Количество символов в строке: \")\n",
    "print(len(sentence)) \n",
    "\n",
    "words = sentence.split()\n",
    "print(\"Количество слов в строке\")\n",
    "print(len(words))"
   ]
  },
  {
   "cell_type": "code",
   "execution_count": 3,
   "metadata": {},
   "outputs": [
    {
     "name": "stdout",
     "output_type": "stream",
     "text": [
      "п\n",
      "м\n",
      "Не пе\n",
      "Не пей вина, Гертруда,пьянство не красит дам. Напьешься в хлам - и станет противно соратникам и друзья\n",
      "епйвн,Гррд,ьнтон рстдм аьшс  лм-исае ртвосртиа  рзя.\n",
      "Н е иа етуапясв екаи а.Нпеьявха   тнтпоин оанкмидуьм\n",
      ".мяьзурд и макинтарос онвиторп тенатс и - малх в ясьшеьпаН .мад тисарк ен овтсняьп,адуртреГ ,анив йеп еН\n",
      ".язр  аитрсовтр еаси-мл  сшьа мдтср нотнь,дррГ,нвйпе\n",
      "104\n"
     ]
    }
   ],
   "source": [
    "sentence = \"Не пей вина, Гертруда,пьянство не красит дам. Напьешься в хлам - и станет противно соратникам и друзьям.\"\n",
    "print(sentence[3])\n",
    "print(sentence[-2])\n",
    "print(sentence[0:5])\n",
    "print(sentence[:-2])\n",
    "print(sentence[1::2])\n",
    "print(sentence[::2])\n",
    "print(sentence[::-1])\n",
    "print(sentence[::-2])\n",
    "print(len(sentence))"
   ]
  },
  {
   "cell_type": "code",
   "execution_count": null,
   "metadata": {},
   "outputs": [],
   "source": []
  }
 ],
 "metadata": {
  "kernelspec": {
   "display_name": "Python 3",
   "language": "python",
   "name": "python3"
  },
  "language_info": {
   "codemirror_mode": {
    "name": "ipython",
    "version": 3
   },
   "file_extension": ".py",
   "mimetype": "text/x-python",
   "name": "python",
   "nbconvert_exporter": "python",
   "pygments_lexer": "ipython3",
   "version": "3.7.0"
  }
 },
 "nbformat": 4,
 "nbformat_minor": 2
}
